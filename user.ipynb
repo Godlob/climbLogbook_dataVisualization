{
 "cells": [
  {
   "cell_type": "markdown",
   "metadata": {},
   "source": []
  },
  {
   "cell_type": "code",
   "execution_count": 1,
   "metadata": {},
   "outputs": [],
   "source": [
    "import pandas as pd\n",
    "import sqlite3\n",
    "import numpy as np\n",
    "import matplotlib.pyplot as plt\n",
    "import seaborn as sns\n",
    "from sklearn.model_selection import train_test_split\n",
    "from sklearn.ensemble import RandomForestClassifier\n",
    "from sklearn.linear_model import LogisticRegression\n",
    "from sklearn.linear_model import LinearRegression\n",
    "from sklearn.svm import SVC\n",
    "from sklearn.neighbors import KNeighborsClassifier\n",
    "from scipy import stats\n",
    "from sklearn.naive_bayes import GaussianNB\n",
    "from pygal_maps_world.maps import World"
   ]
  },
  {
   "cell_type": "code",
   "execution_count": 2,
   "metadata": {},
   "outputs": [],
   "source": [
    "data = sqlite3.connect('database.sqlite')\n",
    "cur = data.cursor()\n",
    "query = cur.execute(\n",
    "    'select ascent.year, ascent.user_id, user.birth, grade.fra_routes, user.sex, user.height, user.weight, user.started\\\n",
    "        ,user.country from ascent, grade, user where ascent.grade_id = grade.id and ascent.user_id = user.id'\n",
    "    )\n",
    "cols = [column[0] for column in query.description]\n",
    "df = pd.DataFrame.from_records(data=query.fetchall(), columns = cols)"
   ]
  },
  {
   "cell_type": "code",
   "execution_count": 3,
   "metadata": {},
   "outputs": [
    {
     "name": "stdout",
     "output_type": "stream",
     "text": [
      "   year  user_id       birth fra_routes  sex  height  weight  started country\n",
      "0  1999        1  1976-03-10         6a    0     177      73     1996     SWE\n",
      "1  1999        1  1976-03-10         6a    0     177      73     1996     SWE\n",
      "2  1999        1  1976-03-10         6a    0     177      73     1996     SWE\n",
      "3  1999        1  1976-03-10         6a    0     177      73     1996     SWE\n",
      "4  1999        1  1976-03-10         6a    0     177      73     1996     SWE\n",
      "number of rows: 4110933 number of cols: 9\n"
     ]
    }
   ],
   "source": [
    "print(df.head())\n",
    "print('number of rows:',df.shape[0],'number of cols:',df.shape[1])"
   ]
  },
  {
   "cell_type": "code",
   "execution_count": 4,
   "metadata": {},
   "outputs": [],
   "source": [
    "df = df.replace({\n",
    "    'fra_routes' : '8c/+'\n",
    "},{\n",
    "    'fra_routes': '8c+'\n",
    "})\n",
    "df = df.replace({\n",
    "    'fra_routes': '-',\n",
    "    'started':0,\n",
    "    'birth' :'',\n",
    "    'weight' : 0,\n",
    "    'height' : 0,\n",
    "},{\n",
    "    'fra_routes': np.NaN,\n",
    "    'started':np.NaN,\n",
    "    'birth':np.NaN,\n",
    "    'weight':np.NaN,\n",
    "    'height' : np.NaN\n",
    "})\n",
    "df=df.dropna(subset=['fra_routes'])"
   ]
  },
  {
   "cell_type": "code",
   "execution_count": 5,
   "metadata": {},
   "outputs": [],
   "source": [
    "# Giving the grade ordinal value for analysis\n",
    "grade = ['2','3a','3b','3c','4a','4b','4c','5a','5b','5c','6a','6a+','6b','6b+','6c','6c+',\n",
    "        '7a','7a+','7b','7b+','7c','7c+','8a','8a+','8b','8b+','8c','8c+','8c+/9a','9a','9a+','9b','9b+','9c']\n",
    "gradeRank=list(range(1,len(grade)+1))\n",
    "df['grade'] = df['fra_routes'].copy()\n",
    "df['grade'] = df['grade'].replace(grade, gradeRank)"
   ]
  },
  {
   "cell_type": "code",
   "execution_count": 6,
   "metadata": {},
   "outputs": [],
   "source": [
    "df=df.dropna()"
   ]
  },
  {
   "cell_type": "code",
   "execution_count": 7,
   "metadata": {},
   "outputs": [],
   "source": [
    "df['birth']=pd.to_datetime(df['birth'],format='%Y-%m-%d',errors='coerce')\n",
    "df=df.dropna(subset=['birth'])\n",
    "df['yearBorn'] = df['birth'].apply(lambda x : x.strftime('%Y'))"
   ]
  },
  {
   "cell_type": "code",
   "execution_count": 8,
   "metadata": {},
   "outputs": [],
   "source": [
    "df_cleaned = df[df['height']>100]"
   ]
  },
  {
   "cell_type": "code",
   "execution_count": 9,
   "metadata": {},
   "outputs": [
    {
     "data": {
      "text/html": [
       "<div>\n",
       "<style>\n",
       "    .dataframe thead tr:only-child th {\n",
       "        text-align: right;\n",
       "    }\n",
       "\n",
       "    .dataframe thead th {\n",
       "        text-align: left;\n",
       "    }\n",
       "\n",
       "    .dataframe tbody tr th {\n",
       "        vertical-align: top;\n",
       "    }\n",
       "</style>\n",
       "<table border=\"1\" class=\"dataframe\">\n",
       "  <thead>\n",
       "    <tr style=\"text-align: right;\">\n",
       "      <th></th>\n",
       "      <th>year</th>\n",
       "      <th>user_id</th>\n",
       "      <th>birth</th>\n",
       "      <th>fra_routes</th>\n",
       "      <th>sex</th>\n",
       "      <th>height</th>\n",
       "      <th>weight</th>\n",
       "      <th>started</th>\n",
       "      <th>country</th>\n",
       "      <th>grade</th>\n",
       "      <th>yearBorn</th>\n",
       "    </tr>\n",
       "  </thead>\n",
       "  <tbody>\n",
       "    <tr>\n",
       "      <th>4110927</th>\n",
       "      <td>2017</td>\n",
       "      <td>19775</td>\n",
       "      <td>1980-05-17</td>\n",
       "      <td>7a</td>\n",
       "      <td>1</td>\n",
       "      <td>157.0</td>\n",
       "      <td>48.0</td>\n",
       "      <td>2006.0</td>\n",
       "      <td>ZAF</td>\n",
       "      <td>17</td>\n",
       "      <td>1980</td>\n",
       "    </tr>\n",
       "    <tr>\n",
       "      <th>4110928</th>\n",
       "      <td>2017</td>\n",
       "      <td>59627</td>\n",
       "      <td>1987-11-25</td>\n",
       "      <td>6c+</td>\n",
       "      <td>0</td>\n",
       "      <td>180.0</td>\n",
       "      <td>68.0</td>\n",
       "      <td>2015.0</td>\n",
       "      <td>POL</td>\n",
       "      <td>16</td>\n",
       "      <td>1987</td>\n",
       "    </tr>\n",
       "    <tr>\n",
       "      <th>4110930</th>\n",
       "      <td>2017</td>\n",
       "      <td>19098</td>\n",
       "      <td>1980-05-28</td>\n",
       "      <td>7a+</td>\n",
       "      <td>0</td>\n",
       "      <td>163.0</td>\n",
       "      <td>58.0</td>\n",
       "      <td>2004.0</td>\n",
       "      <td>ESP</td>\n",
       "      <td>18</td>\n",
       "      <td>1980</td>\n",
       "    </tr>\n",
       "    <tr>\n",
       "      <th>4110931</th>\n",
       "      <td>2017</td>\n",
       "      <td>19098</td>\n",
       "      <td>1980-05-28</td>\n",
       "      <td>7c</td>\n",
       "      <td>0</td>\n",
       "      <td>163.0</td>\n",
       "      <td>58.0</td>\n",
       "      <td>2004.0</td>\n",
       "      <td>ESP</td>\n",
       "      <td>21</td>\n",
       "      <td>1980</td>\n",
       "    </tr>\n",
       "    <tr>\n",
       "      <th>4110932</th>\n",
       "      <td>2017</td>\n",
       "      <td>24751</td>\n",
       "      <td>1986-03-25</td>\n",
       "      <td>8a</td>\n",
       "      <td>0</td>\n",
       "      <td>166.0</td>\n",
       "      <td>58.0</td>\n",
       "      <td>2006.0</td>\n",
       "      <td>ESP</td>\n",
       "      <td>23</td>\n",
       "      <td>1986</td>\n",
       "    </tr>\n",
       "  </tbody>\n",
       "</table>\n",
       "</div>"
      ],
      "text/plain": [
       "         year  user_id      birth fra_routes  sex  height  weight  started  \\\n",
       "4110927  2017    19775 1980-05-17         7a    1   157.0    48.0   2006.0   \n",
       "4110928  2017    59627 1987-11-25        6c+    0   180.0    68.0   2015.0   \n",
       "4110930  2017    19098 1980-05-28        7a+    0   163.0    58.0   2004.0   \n",
       "4110931  2017    19098 1980-05-28         7c    0   163.0    58.0   2004.0   \n",
       "4110932  2017    24751 1986-03-25         8a    0   166.0    58.0   2006.0   \n",
       "\n",
       "        country  grade yearBorn  \n",
       "4110927     ZAF     17     1980  \n",
       "4110928     POL     16     1987  \n",
       "4110930     ESP     18     1980  \n",
       "4110931     ESP     21     1980  \n",
       "4110932     ESP     23     1986  "
      ]
     },
     "execution_count": 9,
     "metadata": {},
     "output_type": "execute_result"
    }
   ],
   "source": [
    "df_cleaned.tail()"
   ]
  },
  {
   "cell_type": "code",
   "execution_count": 10,
   "metadata": {},
   "outputs": [
    {
     "name": "stderr",
     "output_type": "stream",
     "text": [
      "C:\\ProgramData\\Anaconda3\\lib\\site-packages\\ipykernel_launcher.py:1: SettingWithCopyWarning: \n",
      "A value is trying to be set on a copy of a slice from a DataFrame.\n",
      "Try using .loc[row_indexer,col_indexer] = value instead\n",
      "\n",
      "See the caveats in the documentation: http://pandas.pydata.org/pandas-docs/stable/indexing.html#indexing-view-versus-copy\n",
      "  \"\"\"Entry point for launching an IPython kernel.\n"
     ]
    }
   ],
   "source": [
    "df_cleaned['age']=df_cleaned.loc[:,'year']-df_cleaned.loc[:,'yearBorn'].astype(dtype=np.int64)"
   ]
  },
  {
   "cell_type": "code",
   "execution_count": 11,
   "metadata": {},
   "outputs": [],
   "source": [
    "df_cleaned = df_cleaned.drop(['birth'],axis=1)"
   ]
  },
  {
   "cell_type": "code",
   "execution_count": 12,
   "metadata": {},
   "outputs": [
    {
     "data": {
      "text/html": [
       "<div>\n",
       "<style>\n",
       "    .dataframe thead tr:only-child th {\n",
       "        text-align: right;\n",
       "    }\n",
       "\n",
       "    .dataframe thead th {\n",
       "        text-align: left;\n",
       "    }\n",
       "\n",
       "    .dataframe tbody tr th {\n",
       "        vertical-align: top;\n",
       "    }\n",
       "</style>\n",
       "<table border=\"1\" class=\"dataframe\">\n",
       "  <thead>\n",
       "    <tr style=\"text-align: right;\">\n",
       "      <th></th>\n",
       "      <th>year</th>\n",
       "      <th>user_id</th>\n",
       "      <th>fra_routes</th>\n",
       "      <th>sex</th>\n",
       "      <th>height</th>\n",
       "      <th>weight</th>\n",
       "      <th>started</th>\n",
       "      <th>country</th>\n",
       "      <th>grade</th>\n",
       "      <th>yearBorn</th>\n",
       "      <th>age</th>\n",
       "    </tr>\n",
       "  </thead>\n",
       "  <tbody>\n",
       "    <tr>\n",
       "      <th>0</th>\n",
       "      <td>1999</td>\n",
       "      <td>1</td>\n",
       "      <td>6a</td>\n",
       "      <td>0</td>\n",
       "      <td>177.0</td>\n",
       "      <td>73.0</td>\n",
       "      <td>1996.0</td>\n",
       "      <td>SWE</td>\n",
       "      <td>11</td>\n",
       "      <td>1976</td>\n",
       "      <td>23</td>\n",
       "    </tr>\n",
       "    <tr>\n",
       "      <th>1</th>\n",
       "      <td>1999</td>\n",
       "      <td>1</td>\n",
       "      <td>6a</td>\n",
       "      <td>0</td>\n",
       "      <td>177.0</td>\n",
       "      <td>73.0</td>\n",
       "      <td>1996.0</td>\n",
       "      <td>SWE</td>\n",
       "      <td>11</td>\n",
       "      <td>1976</td>\n",
       "      <td>23</td>\n",
       "    </tr>\n",
       "    <tr>\n",
       "      <th>2</th>\n",
       "      <td>1999</td>\n",
       "      <td>1</td>\n",
       "      <td>6a</td>\n",
       "      <td>0</td>\n",
       "      <td>177.0</td>\n",
       "      <td>73.0</td>\n",
       "      <td>1996.0</td>\n",
       "      <td>SWE</td>\n",
       "      <td>11</td>\n",
       "      <td>1976</td>\n",
       "      <td>23</td>\n",
       "    </tr>\n",
       "    <tr>\n",
       "      <th>3</th>\n",
       "      <td>1999</td>\n",
       "      <td>1</td>\n",
       "      <td>6a</td>\n",
       "      <td>0</td>\n",
       "      <td>177.0</td>\n",
       "      <td>73.0</td>\n",
       "      <td>1996.0</td>\n",
       "      <td>SWE</td>\n",
       "      <td>11</td>\n",
       "      <td>1976</td>\n",
       "      <td>23</td>\n",
       "    </tr>\n",
       "    <tr>\n",
       "      <th>4</th>\n",
       "      <td>1999</td>\n",
       "      <td>1</td>\n",
       "      <td>6a</td>\n",
       "      <td>0</td>\n",
       "      <td>177.0</td>\n",
       "      <td>73.0</td>\n",
       "      <td>1996.0</td>\n",
       "      <td>SWE</td>\n",
       "      <td>11</td>\n",
       "      <td>1976</td>\n",
       "      <td>23</td>\n",
       "    </tr>\n",
       "  </tbody>\n",
       "</table>\n",
       "</div>"
      ],
      "text/plain": [
       "   year  user_id fra_routes  sex  height  weight  started country  grade  \\\n",
       "0  1999        1         6a    0   177.0    73.0   1996.0     SWE     11   \n",
       "1  1999        1         6a    0   177.0    73.0   1996.0     SWE     11   \n",
       "2  1999        1         6a    0   177.0    73.0   1996.0     SWE     11   \n",
       "3  1999        1         6a    0   177.0    73.0   1996.0     SWE     11   \n",
       "4  1999        1         6a    0   177.0    73.0   1996.0     SWE     11   \n",
       "\n",
       "  yearBorn  age  \n",
       "0     1976   23  \n",
       "1     1976   23  \n",
       "2     1976   23  \n",
       "3     1976   23  \n",
       "4     1976   23  "
      ]
     },
     "execution_count": 12,
     "metadata": {},
     "output_type": "execute_result"
    }
   ],
   "source": [
    "df_cleaned.head()"
   ]
  },
  {
   "cell_type": "code",
   "execution_count": 13,
   "metadata": {},
   "outputs": [
    {
     "data": {
      "text/plain": [
       "2008"
      ]
     },
     "execution_count": 13,
     "metadata": {},
     "output_type": "execute_result"
    }
   ],
   "source": [
    "df_cleaned.loc[df_cleaned['grade'].where(df_cleaned['user_id']==4).idxmax(),'year']"
   ]
  },
  {
   "cell_type": "code",
   "execution_count": 14,
   "metadata": {},
   "outputs": [],
   "source": [
    "climbs = df_cleaned['user_id'].value_counts()"
   ]
  },
  {
   "cell_type": "code",
   "execution_count": 15,
   "metadata": {},
   "outputs": [],
   "source": [
    "#Combine log by each user\n",
    "listed_df = df_cleaned.groupby(['user_id']).agg(lambda x :x.unique().tolist())"
   ]
  },
  {
   "cell_type": "code",
   "execution_count": 16,
   "metadata": {},
   "outputs": [
    {
     "data": {
      "text/html": [
       "<div>\n",
       "<style>\n",
       "    .dataframe thead tr:only-child th {\n",
       "        text-align: right;\n",
       "    }\n",
       "\n",
       "    .dataframe thead th {\n",
       "        text-align: left;\n",
       "    }\n",
       "\n",
       "    .dataframe tbody tr th {\n",
       "        vertical-align: top;\n",
       "    }\n",
       "</style>\n",
       "<table border=\"1\" class=\"dataframe\">\n",
       "  <thead>\n",
       "    <tr style=\"text-align: right;\">\n",
       "      <th></th>\n",
       "      <th>year</th>\n",
       "      <th>fra_routes</th>\n",
       "      <th>sex</th>\n",
       "      <th>height</th>\n",
       "      <th>weight</th>\n",
       "      <th>started</th>\n",
       "      <th>country</th>\n",
       "      <th>grade</th>\n",
       "      <th>yearBorn</th>\n",
       "      <th>age</th>\n",
       "    </tr>\n",
       "    <tr>\n",
       "      <th>user_id</th>\n",
       "      <th></th>\n",
       "      <th></th>\n",
       "      <th></th>\n",
       "      <th></th>\n",
       "      <th></th>\n",
       "      <th></th>\n",
       "      <th></th>\n",
       "      <th></th>\n",
       "      <th></th>\n",
       "      <th></th>\n",
       "    </tr>\n",
       "  </thead>\n",
       "  <tbody>\n",
       "    <tr>\n",
       "      <th>1</th>\n",
       "      <td>[1999, 1998, 2000, 2001, 2002, 2003, 2004, 2005]</td>\n",
       "      <td>[6a, 6a+, 6b, 6b+, 6c, 6c+, 7a, 7a+, 7b, 7b+, ...</td>\n",
       "      <td>[0]</td>\n",
       "      <td>[177.0]</td>\n",
       "      <td>[73.0]</td>\n",
       "      <td>[1996.0]</td>\n",
       "      <td>[SWE]</td>\n",
       "      <td>[11, 12, 13, 14, 15, 16, 17, 18, 19, 20, 21, 2...</td>\n",
       "      <td>[1976]</td>\n",
       "      <td>[23, 22, 24, 25, 26, 27, 28, 29]</td>\n",
       "    </tr>\n",
       "    <tr>\n",
       "      <th>3</th>\n",
       "      <td>[1999, 1998, 1997, 1996, 1995, 2000, 2001]</td>\n",
       "      <td>[7b+, 7a, 8a, 7a+, 7b, 7c, 7c+, 6c+, 6c]</td>\n",
       "      <td>[0]</td>\n",
       "      <td>[180.0]</td>\n",
       "      <td>[78.0]</td>\n",
       "      <td>[1995.0]</td>\n",
       "      <td>[SWE]</td>\n",
       "      <td>[20, 17, 23, 18, 19, 21, 22, 16, 15]</td>\n",
       "      <td>[1973]</td>\n",
       "      <td>[26, 25, 24, 23, 22, 27, 28]</td>\n",
       "    </tr>\n",
       "    <tr>\n",
       "      <th>4</th>\n",
       "      <td>[2004, 2003, 2005, 2006, 2007, 2008, 2009]</td>\n",
       "      <td>[8a, 7c, 7b, 7a+, 7b+, 7c+, 7a, 6c, 6c+, 6a+, ...</td>\n",
       "      <td>[1]</td>\n",
       "      <td>[165.0]</td>\n",
       "      <td>[58.0]</td>\n",
       "      <td>[2001.0]</td>\n",
       "      <td>[SWE]</td>\n",
       "      <td>[23, 21, 19, 18, 20, 22, 17, 15, 16, 12, 14, 1...</td>\n",
       "      <td>[1984]</td>\n",
       "      <td>[20, 19, 21, 22, 23, 24, 25]</td>\n",
       "    </tr>\n",
       "    <tr>\n",
       "      <th>6</th>\n",
       "      <td>[2000, 2001]</td>\n",
       "      <td>[7c, 8a, 7c+, 7b, 8a+, 7b+]</td>\n",
       "      <td>[0]</td>\n",
       "      <td>[185.0]</td>\n",
       "      <td>[73.0]</td>\n",
       "      <td>[1992.0]</td>\n",
       "      <td>[AUS]</td>\n",
       "      <td>[21, 23, 22, 19, 24, 20]</td>\n",
       "      <td>[1970]</td>\n",
       "      <td>[30, 31]</td>\n",
       "    </tr>\n",
       "    <tr>\n",
       "      <th>10</th>\n",
       "      <td>[2000, 1993, 1999, 2002, 1995, 1996, 1998, 199...</td>\n",
       "      <td>[7b, 7b+, 7a+, 7a, 8a, 7c+, 7c, 8a+, 5c, 6b+, ...</td>\n",
       "      <td>[0]</td>\n",
       "      <td>[167.0]</td>\n",
       "      <td>[63.0]</td>\n",
       "      <td>[1992.0]</td>\n",
       "      <td>[SWE]</td>\n",
       "      <td>[19, 20, 18, 17, 23, 22, 21, 24, 10, 14, 13, 1...</td>\n",
       "      <td>[1965]</td>\n",
       "      <td>[35, 28, 34, 37, 30, 31, 33, 32, 29, 27, 36, 3...</td>\n",
       "    </tr>\n",
       "  </tbody>\n",
       "</table>\n",
       "</div>"
      ],
      "text/plain": [
       "                                                      year  \\\n",
       "user_id                                                      \n",
       "1         [1999, 1998, 2000, 2001, 2002, 2003, 2004, 2005]   \n",
       "3               [1999, 1998, 1997, 1996, 1995, 2000, 2001]   \n",
       "4               [2004, 2003, 2005, 2006, 2007, 2008, 2009]   \n",
       "6                                             [2000, 2001]   \n",
       "10       [2000, 1993, 1999, 2002, 1995, 1996, 1998, 199...   \n",
       "\n",
       "                                                fra_routes  sex   height  \\\n",
       "user_id                                                                    \n",
       "1        [6a, 6a+, 6b, 6b+, 6c, 6c+, 7a, 7a+, 7b, 7b+, ...  [0]  [177.0]   \n",
       "3                 [7b+, 7a, 8a, 7a+, 7b, 7c, 7c+, 6c+, 6c]  [0]  [180.0]   \n",
       "4        [8a, 7c, 7b, 7a+, 7b+, 7c+, 7a, 6c, 6c+, 6a+, ...  [1]  [165.0]   \n",
       "6                              [7c, 8a, 7c+, 7b, 8a+, 7b+]  [0]  [185.0]   \n",
       "10       [7b, 7b+, 7a+, 7a, 8a, 7c+, 7c, 8a+, 5c, 6b+, ...  [0]  [167.0]   \n",
       "\n",
       "         weight   started country  \\\n",
       "user_id                             \n",
       "1        [73.0]  [1996.0]   [SWE]   \n",
       "3        [78.0]  [1995.0]   [SWE]   \n",
       "4        [58.0]  [2001.0]   [SWE]   \n",
       "6        [73.0]  [1992.0]   [AUS]   \n",
       "10       [63.0]  [1992.0]   [SWE]   \n",
       "\n",
       "                                                     grade yearBorn  \\\n",
       "user_id                                                               \n",
       "1        [11, 12, 13, 14, 15, 16, 17, 18, 19, 20, 21, 2...   [1976]   \n",
       "3                     [20, 17, 23, 18, 19, 21, 22, 16, 15]   [1973]   \n",
       "4        [23, 21, 19, 18, 20, 22, 17, 15, 16, 12, 14, 1...   [1984]   \n",
       "6                                 [21, 23, 22, 19, 24, 20]   [1970]   \n",
       "10       [19, 20, 18, 17, 23, 22, 21, 24, 10, 14, 13, 1...   [1965]   \n",
       "\n",
       "                                                       age  \n",
       "user_id                                                     \n",
       "1                         [23, 22, 24, 25, 26, 27, 28, 29]  \n",
       "3                             [26, 25, 24, 23, 22, 27, 28]  \n",
       "4                             [20, 19, 21, 22, 23, 24, 25]  \n",
       "6                                                 [30, 31]  \n",
       "10       [35, 28, 34, 37, 30, 31, 33, 32, 29, 27, 36, 3...  "
      ]
     },
     "execution_count": 16,
     "metadata": {},
     "output_type": "execute_result"
    }
   ],
   "source": [
    "listed_df.head()"
   ]
  },
  {
   "cell_type": "code",
   "execution_count": 17,
   "metadata": {},
   "outputs": [],
   "source": [
    "#Sorting the grade list so I can take the max grade climbed by the user\n",
    "result = listed_df.fra_routes.sort_values().apply(lambda x: sorted(x))"
   ]
  },
  {
   "cell_type": "code",
   "execution_count": 18,
   "metadata": {},
   "outputs": [],
   "source": [
    "for i in listed_df.index:\n",
    "    listed_df['fra_routes'][i]=result[i]"
   ]
  },
  {
   "cell_type": "code",
   "execution_count": 19,
   "metadata": {},
   "outputs": [],
   "source": [
    "# for i in listed_df.index:\n",
    "#     listed_df['year'][i] = df_cleaned.loc[df_cleaned['grade'].where(df_cleaned['user_id']==i).idxmax(),'year']"
   ]
  },
  {
   "cell_type": "markdown",
   "metadata": {},
   "source": [
    "## Because the above code took too long to run, I used the percentile of year to get peak year"
   ]
  },
  {
   "cell_type": "code",
   "execution_count": 20,
   "metadata": {},
   "outputs": [],
   "source": [
    "for i in listed_df.index:\n",
    "    listed_df['year'][i]=np.percentile(listed_df['year'][i],75)\n",
    "    listed_df['fra_routes'][i]=listed_df['fra_routes'][i][-1]\n",
    "    listed_df['sex'][i]=listed_df['sex'][i][0]\n",
    "    listed_df['height'][i]=listed_df['height'][i][0]\n",
    "    listed_df['weight'][i]=listed_df['weight'][i][0]\n",
    "    listed_df['started'][i]=listed_df['started'][i][0]\n",
    "    listed_df['grade'][i]=max(listed_df['grade'][i])\n",
    "    listed_df['yearBorn'][i]=listed_df['yearBorn'][i][0]\n",
    "    listed_df['country'][i]=listed_df['country'][i][0]\n",
    "    listed_df['age'][i]=np.percentile(listed_df['age'][i],75)"
   ]
  },
  {
   "cell_type": "code",
   "execution_count": 21,
   "metadata": {},
   "outputs": [
    {
     "data": {
      "text/html": [
       "<div>\n",
       "<style>\n",
       "    .dataframe thead tr:only-child th {\n",
       "        text-align: right;\n",
       "    }\n",
       "\n",
       "    .dataframe thead th {\n",
       "        text-align: left;\n",
       "    }\n",
       "\n",
       "    .dataframe tbody tr th {\n",
       "        vertical-align: top;\n",
       "    }\n",
       "</style>\n",
       "<table border=\"1\" class=\"dataframe\">\n",
       "  <thead>\n",
       "    <tr style=\"text-align: right;\">\n",
       "      <th></th>\n",
       "      <th>year</th>\n",
       "      <th>fra_routes</th>\n",
       "      <th>sex</th>\n",
       "      <th>height</th>\n",
       "      <th>weight</th>\n",
       "      <th>started</th>\n",
       "      <th>country</th>\n",
       "      <th>grade</th>\n",
       "      <th>yearBorn</th>\n",
       "      <th>age</th>\n",
       "    </tr>\n",
       "    <tr>\n",
       "      <th>user_id</th>\n",
       "      <th></th>\n",
       "      <th></th>\n",
       "      <th></th>\n",
       "      <th></th>\n",
       "      <th></th>\n",
       "      <th></th>\n",
       "      <th></th>\n",
       "      <th></th>\n",
       "      <th></th>\n",
       "      <th></th>\n",
       "    </tr>\n",
       "  </thead>\n",
       "  <tbody>\n",
       "    <tr>\n",
       "      <th>1</th>\n",
       "      <td>2003.25</td>\n",
       "      <td>8a</td>\n",
       "      <td>0</td>\n",
       "      <td>177</td>\n",
       "      <td>73</td>\n",
       "      <td>1996</td>\n",
       "      <td>SWE</td>\n",
       "      <td>23</td>\n",
       "      <td>1976</td>\n",
       "      <td>27.25</td>\n",
       "    </tr>\n",
       "    <tr>\n",
       "      <th>3</th>\n",
       "      <td>1999.5</td>\n",
       "      <td>8a</td>\n",
       "      <td>0</td>\n",
       "      <td>180</td>\n",
       "      <td>78</td>\n",
       "      <td>1995</td>\n",
       "      <td>SWE</td>\n",
       "      <td>23</td>\n",
       "      <td>1973</td>\n",
       "      <td>26.5</td>\n",
       "    </tr>\n",
       "    <tr>\n",
       "      <th>4</th>\n",
       "      <td>2007.5</td>\n",
       "      <td>8a+</td>\n",
       "      <td>1</td>\n",
       "      <td>165</td>\n",
       "      <td>58</td>\n",
       "      <td>2001</td>\n",
       "      <td>SWE</td>\n",
       "      <td>24</td>\n",
       "      <td>1984</td>\n",
       "      <td>23.5</td>\n",
       "    </tr>\n",
       "    <tr>\n",
       "      <th>6</th>\n",
       "      <td>2000.75</td>\n",
       "      <td>8a+</td>\n",
       "      <td>0</td>\n",
       "      <td>185</td>\n",
       "      <td>73</td>\n",
       "      <td>1992</td>\n",
       "      <td>AUS</td>\n",
       "      <td>24</td>\n",
       "      <td>1970</td>\n",
       "      <td>30.75</td>\n",
       "    </tr>\n",
       "    <tr>\n",
       "      <th>10</th>\n",
       "      <td>2010.75</td>\n",
       "      <td>8a+</td>\n",
       "      <td>0</td>\n",
       "      <td>167</td>\n",
       "      <td>63</td>\n",
       "      <td>1992</td>\n",
       "      <td>SWE</td>\n",
       "      <td>24</td>\n",
       "      <td>1965</td>\n",
       "      <td>45.75</td>\n",
       "    </tr>\n",
       "  </tbody>\n",
       "</table>\n",
       "</div>"
      ],
      "text/plain": [
       "            year fra_routes sex height weight started country grade yearBorn  \\\n",
       "user_id                                                                        \n",
       "1        2003.25         8a   0    177     73    1996     SWE    23     1976   \n",
       "3         1999.5         8a   0    180     78    1995     SWE    23     1973   \n",
       "4         2007.5        8a+   1    165     58    2001     SWE    24     1984   \n",
       "6        2000.75        8a+   0    185     73    1992     AUS    24     1970   \n",
       "10       2010.75        8a+   0    167     63    1992     SWE    24     1965   \n",
       "\n",
       "           age  \n",
       "user_id         \n",
       "1        27.25  \n",
       "3         26.5  \n",
       "4         23.5  \n",
       "6        30.75  \n",
       "10       45.75  "
      ]
     },
     "execution_count": 21,
     "metadata": {},
     "output_type": "execute_result"
    }
   ],
   "source": [
    "listed_df.head()"
   ]
  },
  {
   "cell_type": "code",
   "execution_count": 22,
   "metadata": {},
   "outputs": [
    {
     "name": "stdout",
     "output_type": "stream",
     "text": [
      "        sex country    age\n",
      "user_id                   \n",
      "1         0     SWE  27.25\n",
      "3         0     SWE   26.5\n",
      "4         1     SWE   23.5\n",
      "6         0     AUS  30.75\n",
      "10        0     SWE  45.75\n"
     ]
    }
   ],
   "source": [
    "dfuser = listed_df.drop(['year','started','fra_routes','height','weight','started','grade','yearBorn'], axis=1)\n",
    "print(dfuser.head())"
   ]
  },
  {
   "cell_type": "code",
   "execution_count": 23,
   "metadata": {},
   "outputs": [],
   "source": [
    "dfuser = dfuser.replace({\n",
    "    'country' : ['','none','-']\n",
    "},{\n",
    "    'country': 'np.NaN'\n",
    "})\n",
    "dfuser = dfuser.dropna(subset=['country'])"
   ]
  },
  {
   "cell_type": "code",
   "execution_count": 55,
   "metadata": {},
   "outputs": [],
   "source": [
    "country = dfuser['country'].value_counts()\n",
    "countrylist = list(df['country'].unique())"
   ]
  },
  {
   "cell_type": "code",
   "execution_count": 25,
   "metadata": {},
   "outputs": [],
   "source": [
    "countrylist.remove('BMU')\n",
    "countrylist.remove('YUG')\n",
    "countrylist.remove('WSM')\n",
    "countrylist.remove('FXX')\n",
    "countrylist.remove('PYF')\n",
    "countrylist.remove('MSR')\n",
    "countrylist.remove('PLW')\n",
    "countrylist.remove('SMO')\n",
    "countrylist.remove('QAT')\n",
    "countrylist.remove('CIV')\n",
    "countrylist.remove('ABW')\n",
    "countrylist.remove('GTM')\n",
    "countrylist.remove('NFK')\n",
    "countrylist.remove('STP')\n",
    "countrylist.remove('ARE')\n",
    "countrylist.remove('FRO')\n",
    "countrylist.remove('DOM')\n",
    "countrylist.remove('NCL')\n",
    "countrylist.remove('VGB')\n",
    "countrylist.remove('')\n",
    "countrylist.remove('none')\n",
    "countrylist.remove('ATF')"
   ]
  },
  {
   "cell_type": "code",
   "execution_count": 26,
   "metadata": {},
   "outputs": [],
   "source": [
    "pygalList=[\n",
    "         'se','au','no','be','nz','nl','ca','us','de','it','fr','pl','gb','co','my','cz','es','pt','at','za','hr','ch','ph',\n",
    "         'mx','gr','br','rs','si','bg','dk','hk','ie','il','ga','ru','ro','fi','sg','jp','pe','ua','zw','af','lt','lu','kr',\n",
    "         'bo','tw','ar','ir','hu','in','tr','ng','tj','hn','vn','cl','ad','th','ee','mn','ec','ve','sk','cn','re','bz','is',\n",
    "         'lv','mv','mk','gu','np','na','kz','gh','by','et','ba','id','pr','kg','pa','ao','ug','om','mt','al','lb','ge'\n",
    "        ]\n",
    "dfmap = dfuser.country.replace(countrylist, pygalList)\n",
    "dfmap = dfmap[dfmap.isin(pygalList)]\n",
    "mappingDict = dict(dfmap.value_counts())"
   ]
  },
  {
   "cell_type": "code",
   "execution_count": 54,
   "metadata": {},
   "outputs": [],
   "source": [
    "wmChart = World()\n",
    "wmChart.title = 'Number of Users in Each Country'\n",
    "wmChart.add('Climbers',mappingDict)\n",
    "wmChart.render_to_file('usermap.svg')"
   ]
  },
  {
   "cell_type": "markdown",
   "metadata": {},
   "source": [
    "## Preparing dataframe for machine learning"
   ]
  },
  {
   "cell_type": "code",
   "execution_count": 28,
   "metadata": {
    "scrolled": true
   },
   "outputs": [],
   "source": [
    "final_df = listed_df.drop(['year','started','fra_routes','country'],axis=1)\n",
    "final_df['climbExp'] = listed_df['year']-listed_df['started']"
   ]
  },
  {
   "cell_type": "code",
   "execution_count": 29,
   "metadata": {},
   "outputs": [],
   "source": [
    "final_df = final_df.astype(dtype=np.int64)"
   ]
  },
  {
   "cell_type": "code",
   "execution_count": 30,
   "metadata": {},
   "outputs": [],
   "source": [
    "final_df['BMI'] = final_df['weight']/((final_df['height']/100)**2)"
   ]
  },
  {
   "cell_type": "code",
   "execution_count": 31,
   "metadata": {
    "scrolled": true
   },
   "outputs": [
    {
     "data": {
      "text/html": [
       "<div>\n",
       "<style>\n",
       "    .dataframe thead tr:only-child th {\n",
       "        text-align: right;\n",
       "    }\n",
       "\n",
       "    .dataframe thead th {\n",
       "        text-align: left;\n",
       "    }\n",
       "\n",
       "    .dataframe tbody tr th {\n",
       "        vertical-align: top;\n",
       "    }\n",
       "</style>\n",
       "<table border=\"1\" class=\"dataframe\">\n",
       "  <thead>\n",
       "    <tr style=\"text-align: right;\">\n",
       "      <th></th>\n",
       "      <th>sex</th>\n",
       "      <th>height</th>\n",
       "      <th>weight</th>\n",
       "      <th>grade</th>\n",
       "      <th>yearBorn</th>\n",
       "      <th>age</th>\n",
       "      <th>climbExp</th>\n",
       "      <th>BMI</th>\n",
       "    </tr>\n",
       "    <tr>\n",
       "      <th>user_id</th>\n",
       "      <th></th>\n",
       "      <th></th>\n",
       "      <th></th>\n",
       "      <th></th>\n",
       "      <th></th>\n",
       "      <th></th>\n",
       "      <th></th>\n",
       "      <th></th>\n",
       "    </tr>\n",
       "  </thead>\n",
       "  <tbody>\n",
       "    <tr>\n",
       "      <th>1</th>\n",
       "      <td>0</td>\n",
       "      <td>177</td>\n",
       "      <td>73</td>\n",
       "      <td>23</td>\n",
       "      <td>1976</td>\n",
       "      <td>27</td>\n",
       "      <td>7</td>\n",
       "      <td>23.301095</td>\n",
       "    </tr>\n",
       "    <tr>\n",
       "      <th>3</th>\n",
       "      <td>0</td>\n",
       "      <td>180</td>\n",
       "      <td>78</td>\n",
       "      <td>23</td>\n",
       "      <td>1973</td>\n",
       "      <td>26</td>\n",
       "      <td>4</td>\n",
       "      <td>24.074074</td>\n",
       "    </tr>\n",
       "    <tr>\n",
       "      <th>4</th>\n",
       "      <td>1</td>\n",
       "      <td>165</td>\n",
       "      <td>58</td>\n",
       "      <td>24</td>\n",
       "      <td>1984</td>\n",
       "      <td>23</td>\n",
       "      <td>6</td>\n",
       "      <td>21.303949</td>\n",
       "    </tr>\n",
       "    <tr>\n",
       "      <th>6</th>\n",
       "      <td>0</td>\n",
       "      <td>185</td>\n",
       "      <td>73</td>\n",
       "      <td>24</td>\n",
       "      <td>1970</td>\n",
       "      <td>30</td>\n",
       "      <td>8</td>\n",
       "      <td>21.329438</td>\n",
       "    </tr>\n",
       "    <tr>\n",
       "      <th>10</th>\n",
       "      <td>0</td>\n",
       "      <td>167</td>\n",
       "      <td>63</td>\n",
       "      <td>24</td>\n",
       "      <td>1965</td>\n",
       "      <td>45</td>\n",
       "      <td>18</td>\n",
       "      <td>22.589551</td>\n",
       "    </tr>\n",
       "  </tbody>\n",
       "</table>\n",
       "</div>"
      ],
      "text/plain": [
       "         sex  height  weight  grade  yearBorn  age  climbExp        BMI\n",
       "user_id                                                                \n",
       "1          0     177      73     23      1976   27         7  23.301095\n",
       "3          0     180      78     23      1973   26         4  24.074074\n",
       "4          1     165      58     24      1984   23         6  21.303949\n",
       "6          0     185      73     24      1970   30         8  21.329438\n",
       "10         0     167      63     24      1965   45        18  22.589551"
      ]
     },
     "execution_count": 31,
     "metadata": {},
     "output_type": "execute_result"
    }
   ],
   "source": [
    "final_df.head()"
   ]
  },
  {
   "cell_type": "markdown",
   "metadata": {},
   "source": [
    "# Grade classification (Nick Draper, University of Derby)"
   ]
  },
  {
   "cell_type": "markdown",
   "metadata": {},
   "source": [
    "![](Classification.png) "
   ]
  },
  {
   "cell_type": "code",
   "execution_count": 32,
   "metadata": {},
   "outputs": [],
   "source": [
    "conditions = [\n",
    "    (final_df['grade'] <=9),\n",
    "    (final_df['grade'] <=17),\n",
    "    (final_df['grade'] <=23),\n",
    "    (final_df['grade'] <=27),\n",
    "    (final_df['grade'] <=32)\n",
    "    ]\n",
    "choices = [1, 2, 3, 4, 5]\n",
    "final_df['class'] = np.select(conditions, choices)\n",
    "target_names = ['Lower Grade','Intermediate', 'Advanced', 'Elite','Higher Elite']"
   ]
  },
  {
   "cell_type": "code",
   "execution_count": 33,
   "metadata": {},
   "outputs": [],
   "source": [
    "mldf = final_df[final_df['climbExp']>=0]\n",
    "mldf = mldf[mldf['climbExp']<=20]\n",
    "mldf = mldf[mldf['age']<60]\n",
    "mldf = mldf[mldf['age']>18]\n",
    "mldf = mldf[mldf['age']>mldf['climbExp']]\n",
    "mldf = mldf[mldf['grade']>11]\n",
    "mldf = mldf[mldf['height']<200]\n",
    "mldf = mldf[mldf['height']>100]\n",
    "mldf = mldf[mldf['BMI']<35]\n",
    "mldf = mldf[mldf['BMI']>16]\n",
    "#climbing experience > 20 might be false data\n",
    "#age < climbExp False data from user\n",
    "#low climbing grade with high exp might be from inactive user\n",
    "#many false data from user with age more than 100\n",
    "#BMI>29.9 is considered obesity, so it might be false height and weight data from user"
   ]
  },
  {
   "cell_type": "code",
   "execution_count": 34,
   "metadata": {},
   "outputs": [],
   "source": [
    "mldf = mldf.join(climbs).rename(columns={'user_id':'climbLogged'})"
   ]
  },
  {
   "cell_type": "code",
   "execution_count": 35,
   "metadata": {
    "scrolled": false
   },
   "outputs": [
    {
     "data": {
      "image/png": "[encoded data removed]",
      "text/plain": [
       "<matplotlib.figure.Figure at 0x24daaa70160>"
      ]
     },
     "metadata": {
      "needs_background": "light"
     },
     "output_type": "display_data"
    }
   ],
   "source": [
    "plt.figure(figsize=(15,5))\n",
    "ax = sns.boxplot(x=\"climbExp\", y=\"grade\", data=mldf)\n",
    "plt.title('Climb Experience(year) vs Grade Climbed Original Data')\n",
    "plt.xlabel('Climb Experience (year)')\n",
    "plt.show()"
   ]
  },
  {
   "cell_type": "markdown",
   "metadata": {},
   "source": [
    "# Filtering user false data"
   ]
  },
  {
   "cell_type": "code",
   "execution_count": 36,
   "metadata": {},
   "outputs": [],
   "source": [
    "ff = mldf[mldf['climbExp']==1].where(mldf['grade']<=14)\n",
    "ff = ff.dropna()\n",
    "ff2 = mldf[mldf['climbExp']==2].where(mldf['grade']<=16)\n",
    "ff2= ff2.dropna()\n",
    "ff3 = mldf[mldf['climbExp']<=18].where(mldf['climbLogged']>50)\n",
    "ff3= ff3[ff3['climbExp']>2]\n",
    "ff4 = mldf[mldf['climbExp']==0].where(mldf['grade']<=13).where(mldf['climbLogged']<10)"
   ]
  },
  {
   "cell_type": "code",
   "execution_count": 37,
   "metadata": {},
   "outputs": [],
   "source": [
    "ffjoin = pd.concat([ff,ff2,ff3,ff4])"
   ]
  },
  {
   "cell_type": "code",
   "execution_count": 38,
   "metadata": {},
   "outputs": [
    {
     "data": {
      "text/html": [
       "<div>\n",
       "<style>\n",
       "    .dataframe thead tr:only-child th {\n",
       "        text-align: right;\n",
       "    }\n",
       "\n",
       "    .dataframe thead th {\n",
       "        text-align: left;\n",
       "    }\n",
       "\n",
       "    .dataframe tbody tr th {\n",
       "        vertical-align: top;\n",
       "    }\n",
       "</style>\n",
       "<table border=\"1\" class=\"dataframe\">\n",
       "  <thead>\n",
       "    <tr style=\"text-align: right;\">\n",
       "      <th></th>\n",
       "      <th>sex</th>\n",
       "      <th>height</th>\n",
       "      <th>weight</th>\n",
       "      <th>grade</th>\n",
       "      <th>yearBorn</th>\n",
       "      <th>age</th>\n",
       "      <th>climbExp</th>\n",
       "      <th>BMI</th>\n",
       "      <th>class</th>\n",
       "      <th>climbLogged</th>\n",
       "    </tr>\n",
       "    <tr>\n",
       "      <th>user_id</th>\n",
       "      <th></th>\n",
       "      <th></th>\n",
       "      <th></th>\n",
       "      <th></th>\n",
       "      <th></th>\n",
       "      <th></th>\n",
       "      <th></th>\n",
       "      <th></th>\n",
       "      <th></th>\n",
       "      <th></th>\n",
       "    </tr>\n",
       "  </thead>\n",
       "  <tbody>\n",
       "    <tr>\n",
       "      <th>556</th>\n",
       "      <td>0.0</td>\n",
       "      <td>180.0</td>\n",
       "      <td>78.0</td>\n",
       "      <td>13.0</td>\n",
       "      <td>1979.0</td>\n",
       "      <td>22.0</td>\n",
       "      <td>1.0</td>\n",
       "      <td>24.074074</td>\n",
       "      <td>2.0</td>\n",
       "      <td>10.0</td>\n",
       "    </tr>\n",
       "    <tr>\n",
       "      <th>1058</th>\n",
       "      <td>0.0</td>\n",
       "      <td>180.0</td>\n",
       "      <td>78.0</td>\n",
       "      <td>14.0</td>\n",
       "      <td>1978.0</td>\n",
       "      <td>24.0</td>\n",
       "      <td>1.0</td>\n",
       "      <td>24.074074</td>\n",
       "      <td>2.0</td>\n",
       "      <td>54.0</td>\n",
       "    </tr>\n",
       "    <tr>\n",
       "      <th>1392</th>\n",
       "      <td>0.0</td>\n",
       "      <td>180.0</td>\n",
       "      <td>73.0</td>\n",
       "      <td>13.0</td>\n",
       "      <td>1980.0</td>\n",
       "      <td>21.0</td>\n",
       "      <td>1.0</td>\n",
       "      <td>22.530864</td>\n",
       "      <td>2.0</td>\n",
       "      <td>18.0</td>\n",
       "    </tr>\n",
       "    <tr>\n",
       "      <th>1995</th>\n",
       "      <td>0.0</td>\n",
       "      <td>165.0</td>\n",
       "      <td>63.0</td>\n",
       "      <td>13.0</td>\n",
       "      <td>1969.0</td>\n",
       "      <td>33.0</td>\n",
       "      <td>1.0</td>\n",
       "      <td>23.140496</td>\n",
       "      <td>2.0</td>\n",
       "      <td>40.0</td>\n",
       "    </tr>\n",
       "    <tr>\n",
       "      <th>2045</th>\n",
       "      <td>0.0</td>\n",
       "      <td>196.0</td>\n",
       "      <td>83.0</td>\n",
       "      <td>13.0</td>\n",
       "      <td>1975.0</td>\n",
       "      <td>27.0</td>\n",
       "      <td>1.0</td>\n",
       "      <td>21.605581</td>\n",
       "      <td>2.0</td>\n",
       "      <td>1.0</td>\n",
       "    </tr>\n",
       "  </tbody>\n",
       "</table>\n",
       "</div>"
      ],
      "text/plain": [
       "         sex  height  weight  grade  yearBorn   age  climbExp        BMI  \\\n",
       "user_id                                                                    \n",
       "556      0.0   180.0    78.0   13.0    1979.0  22.0       1.0  24.074074   \n",
       "1058     0.0   180.0    78.0   14.0    1978.0  24.0       1.0  24.074074   \n",
       "1392     0.0   180.0    73.0   13.0    1980.0  21.0       1.0  22.530864   \n",
       "1995     0.0   165.0    63.0   13.0    1969.0  33.0       1.0  23.140496   \n",
       "2045     0.0   196.0    83.0   13.0    1975.0  27.0       1.0  21.605581   \n",
       "\n",
       "         class  climbLogged  \n",
       "user_id                      \n",
       "556        2.0         10.0  \n",
       "1058       2.0         54.0  \n",
       "1392       2.0         18.0  \n",
       "1995       2.0         40.0  \n",
       "2045       2.0          1.0  "
      ]
     },
     "execution_count": 38,
     "metadata": {},
     "output_type": "execute_result"
    }
   ],
   "source": [
    "ffjoin.head()"
   ]
  },
  {
   "cell_type": "code",
   "execution_count": 39,
   "metadata": {},
   "outputs": [],
   "source": [
    "final_mldf = ffjoin[ffjoin['climbLogged']<1000]"
   ]
  },
  {
   "cell_type": "code",
   "execution_count": 40,
   "metadata": {},
   "outputs": [],
   "source": [
    "#Removing outlier\n",
    "z = np.abs(stats.zscore(final_mldf))\n",
    "threshold = 3\n",
    "final_mldf0 = final_mldf[(z < 3).all(axis=1)]"
   ]
  },
  {
   "cell_type": "code",
   "execution_count": 41,
   "metadata": {},
   "outputs": [
    {
     "data": {
      "text/html": [
       "<div>\n",
       "<style>\n",
       "    .dataframe thead tr:only-child th {\n",
       "        text-align: right;\n",
       "    }\n",
       "\n",
       "    .dataframe thead th {\n",
       "        text-align: left;\n",
       "    }\n",
       "\n",
       "    .dataframe tbody tr th {\n",
       "        vertical-align: top;\n",
       "    }\n",
       "</style>\n",
       "<table border=\"1\" class=\"dataframe\">\n",
       "  <thead>\n",
       "    <tr style=\"text-align: right;\">\n",
       "      <th></th>\n",
       "      <th>sex</th>\n",
       "      <th>height</th>\n",
       "      <th>weight</th>\n",
       "      <th>grade</th>\n",
       "      <th>yearBorn</th>\n",
       "      <th>age</th>\n",
       "      <th>climbExp</th>\n",
       "      <th>BMI</th>\n",
       "      <th>class</th>\n",
       "      <th>climbLogged</th>\n",
       "    </tr>\n",
       "  </thead>\n",
       "  <tbody>\n",
       "    <tr>\n",
       "      <th>sex</th>\n",
       "      <td>1.000000</td>\n",
       "      <td>-0.529320</td>\n",
       "      <td>-0.557770</td>\n",
       "      <td>-0.136155</td>\n",
       "      <td>-0.010819</td>\n",
       "      <td>0.011296</td>\n",
       "      <td>-0.060056</td>\n",
       "      <td>-0.347046</td>\n",
       "      <td>-0.125961</td>\n",
       "      <td>-0.073001</td>\n",
       "    </tr>\n",
       "    <tr>\n",
       "      <th>height</th>\n",
       "      <td>-0.529320</td>\n",
       "      <td>1.000000</td>\n",
       "      <td>0.753689</td>\n",
       "      <td>-0.024042</td>\n",
       "      <td>0.009940</td>\n",
       "      <td>-0.018912</td>\n",
       "      <td>-0.017617</td>\n",
       "      <td>0.134442</td>\n",
       "      <td>-0.033480</td>\n",
       "      <td>0.018734</td>\n",
       "    </tr>\n",
       "    <tr>\n",
       "      <th>weight</th>\n",
       "      <td>-0.557770</td>\n",
       "      <td>0.753689</td>\n",
       "      <td>1.000000</td>\n",
       "      <td>-0.130253</td>\n",
       "      <td>-0.105342</td>\n",
       "      <td>0.092567</td>\n",
       "      <td>-0.017499</td>\n",
       "      <td>0.749273</td>\n",
       "      <td>-0.132007</td>\n",
       "      <td>-0.016749</td>\n",
       "    </tr>\n",
       "    <tr>\n",
       "      <th>grade</th>\n",
       "      <td>-0.136155</td>\n",
       "      <td>-0.024042</td>\n",
       "      <td>-0.130253</td>\n",
       "      <td>1.000000</td>\n",
       "      <td>0.153969</td>\n",
       "      <td>-0.084050</td>\n",
       "      <td>0.559977</td>\n",
       "      <td>-0.161984</td>\n",
       "      <td>0.909366</td>\n",
       "      <td>0.473058</td>\n",
       "    </tr>\n",
       "    <tr>\n",
       "      <th>yearBorn</th>\n",
       "      <td>-0.010819</td>\n",
       "      <td>0.009940</td>\n",
       "      <td>-0.105342</td>\n",
       "      <td>0.153969</td>\n",
       "      <td>1.000000</td>\n",
       "      <td>-0.830326</td>\n",
       "      <td>-0.257227</td>\n",
       "      <td>-0.165241</td>\n",
       "      <td>0.147494</td>\n",
       "      <td>0.005604</td>\n",
       "    </tr>\n",
       "    <tr>\n",
       "      <th>age</th>\n",
       "      <td>0.011296</td>\n",
       "      <td>-0.018912</td>\n",
       "      <td>0.092567</td>\n",
       "      <td>-0.084050</td>\n",
       "      <td>-0.830326</td>\n",
       "      <td>1.000000</td>\n",
       "      <td>0.317716</td>\n",
       "      <td>0.154717</td>\n",
       "      <td>-0.089324</td>\n",
       "      <td>0.147801</td>\n",
       "    </tr>\n",
       "    <tr>\n",
       "      <th>climbExp</th>\n",
       "      <td>-0.060056</td>\n",
       "      <td>-0.017617</td>\n",
       "      <td>-0.017499</td>\n",
       "      <td>0.559977</td>\n",
       "      <td>-0.257227</td>\n",
       "      <td>0.317716</td>\n",
       "      <td>1.000000</td>\n",
       "      <td>-0.004458</td>\n",
       "      <td>0.512631</td>\n",
       "      <td>0.380447</td>\n",
       "    </tr>\n",
       "    <tr>\n",
       "      <th>BMI</th>\n",
       "      <td>-0.347046</td>\n",
       "      <td>0.134442</td>\n",
       "      <td>0.749273</td>\n",
       "      <td>-0.161984</td>\n",
       "      <td>-0.165241</td>\n",
       "      <td>0.154717</td>\n",
       "      <td>-0.004458</td>\n",
       "      <td>1.000000</td>\n",
       "      <td>-0.155823</td>\n",
       "      <td>-0.038783</td>\n",
       "    </tr>\n",
       "    <tr>\n",
       "      <th>class</th>\n",
       "      <td>-0.125961</td>\n",
       "      <td>-0.033480</td>\n",
       "      <td>-0.132007</td>\n",
       "      <td>0.909366</td>\n",
       "      <td>0.147494</td>\n",
       "      <td>-0.089324</td>\n",
       "      <td>0.512631</td>\n",
       "      <td>-0.155823</td>\n",
       "      <td>1.000000</td>\n",
       "      <td>0.437884</td>\n",
       "    </tr>\n",
       "    <tr>\n",
       "      <th>climbLogged</th>\n",
       "      <td>-0.073001</td>\n",
       "      <td>0.018734</td>\n",
       "      <td>-0.016749</td>\n",
       "      <td>0.473058</td>\n",
       "      <td>0.005604</td>\n",
       "      <td>0.147801</td>\n",
       "      <td>0.380447</td>\n",
       "      <td>-0.038783</td>\n",
       "      <td>0.437884</td>\n",
       "      <td>1.000000</td>\n",
       "    </tr>\n",
       "  </tbody>\n",
       "</table>\n",
       "</div>"
      ],
      "text/plain": [
       "                  sex    height    weight     grade  yearBorn       age  \\\n",
       "sex          1.000000 -0.529320 -0.557770 -0.136155 -0.010819  0.011296   \n",
       "height      -0.529320  1.000000  0.753689 -0.024042  0.009940 -0.018912   \n",
       "weight      -0.557770  0.753689  1.000000 -0.130253 -0.105342  0.092567   \n",
       "grade       -0.136155 -0.024042 -0.130253  1.000000  0.153969 -0.084050   \n",
       "yearBorn    -0.010819  0.009940 -0.105342  0.153969  1.000000 -0.830326   \n",
       "age          0.011296 -0.018912  0.092567 -0.084050 -0.830326  1.000000   \n",
       "climbExp    -0.060056 -0.017617 -0.017499  0.559977 -0.257227  0.317716   \n",
       "BMI         -0.347046  0.134442  0.749273 -0.161984 -0.165241  0.154717   \n",
       "class       -0.125961 -0.033480 -0.132007  0.909366  0.147494 -0.089324   \n",
       "climbLogged -0.073001  0.018734 -0.016749  0.473058  0.005604  0.147801   \n",
       "\n",
       "             climbExp       BMI     class  climbLogged  \n",
       "sex         -0.060056 -0.347046 -0.125961    -0.073001  \n",
       "height      -0.017617  0.134442 -0.033480     0.018734  \n",
       "weight      -0.017499  0.749273 -0.132007    -0.016749  \n",
       "grade        0.559977 -0.161984  0.909366     0.473058  \n",
       "yearBorn    -0.257227 -0.165241  0.147494     0.005604  \n",
       "age          0.317716  0.154717 -0.089324     0.147801  \n",
       "climbExp     1.000000 -0.004458  0.512631     0.380447  \n",
       "BMI         -0.004458  1.000000 -0.155823    -0.038783  \n",
       "class        0.512631 -0.155823  1.000000     0.437884  \n",
       "climbLogged  0.380447 -0.038783  0.437884     1.000000  "
      ]
     },
     "execution_count": 41,
     "metadata": {},
     "output_type": "execute_result"
    }
   ],
   "source": [
    "final_mldf0.corr()"
   ]
  },
  {
   "cell_type": "code",
   "execution_count": 69,
   "metadata": {},
   "outputs": [
    {
     "data": {
      "image/png": "[encoded data removed]",
      "text/plain": [
       "<matplotlib.figure.Figure at 0x24dac022d68>"
      ]
     },
     "metadata": {
      "needs_background": "light"
     },
     "output_type": "display_data"
    }
   ],
   "source": [
    "fig = plt.figure(figsize=(19,9))\n",
    "ax = fig.add_subplot(111)\n",
    "cax = ax.matshow(final_mldf0.corr(), vmin=-1, vmax=1, cmap='coolwarm')\n",
    "fig.colorbar(cax)\n",
    "ticks = np.arange(0,10,1)\n",
    "ax.set_xticks(ticks)\n",
    "ax.set_yticks(ticks)\n",
    "ax.set_xticklabels(['sex','height','weight','grade','yearBorn','age','climbExp','BMI','class','climbLogged'])\n",
    "ax.set_yticklabels(['sex','height','weight','grade','yearBorn','age','climbExp','BMI','class','climbLogged'])\n",
    "plt.show()"
   ]
  },
  {
   "cell_type": "code",
   "execution_count": 57,
   "metadata": {},
   "outputs": [
    {
     "data": {
      "image/png": "[encoded data removed]",
      "text/plain": [
       "<matplotlib.figure.Figure at 0x24daaad79e8>"
      ]
     },
     "metadata": {
      "needs_background": "light"
     },
     "output_type": "display_data"
    }
   ],
   "source": [
    "plt.figure(figsize=(15,5))\n",
    "ax = sns.boxplot(x=\"climbExp\", y=\"grade\", data=final_mldf0)\n",
    "plt.title('Climb Experience(year) vs Grade Climbed')\n",
    "plt.xlabel('Climb Experience (year)')\n",
    "plt.show()"
   ]
  },
  {
   "cell_type": "code",
   "execution_count": 70,
   "metadata": {},
   "outputs": [
    {
     "data": {
      "image/png": "[encoded data removed]",
      "text/plain": [
       "<matplotlib.figure.Figure at 0x24dad6b82b0>"
      ]
     },
     "metadata": {
      "needs_background": "light"
     },
     "output_type": "display_data"
    }
   ],
   "source": [
    "plt.figure(figsize=(15,5))\n",
    "# ax = sns.boxplot(x=\"climbExp\", y=\"class\", data=final_mldf0)\n",
    "expdist = final_mldf0['climbExp'].value_counts().sort_index()\n",
    "expdist.plot(kind='bar')\n",
    "plt.title('Number of User by Their Experience')\n",
    "plt.xlabel('climbExp (year)')\n",
    "plt.ylabel('Number of Climbers')\n",
    "plt.grid()\n",
    "plt.show()"
   ]
  },
  {
   "cell_type": "code",
   "execution_count": 44,
   "metadata": {
    "scrolled": true
   },
   "outputs": [
    {
     "data": {
      "image/png": "[encoded data removed]",
      "text/plain": [
       "<matplotlib.figure.Figure at 0x24daa870780>"
      ]
     },
     "metadata": {
      "needs_background": "light"
     },
     "output_type": "display_data"
    }
   ],
   "source": [
    "plt.figure(figsize=(15,5))\n",
    "# ax = sns.boxplot(x=\"climbExp\", y=\"class\", data=final_mldf0)\n",
    "classdist = final_mldf0['class'].value_counts().sort_index()\n",
    "classdist.plot(kind='bar')\n",
    "plt.xticks(np.arange(4),('Intermediate','Advance','Elite','High Elite'),rotation=0)\n",
    "plt.title('Number of Climber by Class')\n",
    "plt.show()"
   ]
  },
  {
   "cell_type": "code",
   "execution_count": 63,
   "metadata": {},
   "outputs": [
    {
     "data": {
      "image/png": "[encoded data removed]",
      "text/plain": [
       "<matplotlib.figure.Figure at 0x24daa66fac8>"
      ]
     },
     "metadata": {
      "needs_background": "light"
     },
     "output_type": "display_data"
    }
   ],
   "source": [
    "plt.figure(figsize=(15,5))\n",
    "ax = sns.violinplot(x=\"climbLogged\", y=\"grade\", data=final_mldf0)\n",
    "plt.title('Number of Climbs vs Grade Climbed')\n",
    "plt.xlabel('Climbs Logged(x100)')\n",
    "plt.xticks(np.arange(10,800,100))\n",
    "plt.show()"
   ]
  },
  {
   "cell_type": "code",
   "execution_count": 46,
   "metadata": {
    "scrolled": true
   },
   "outputs": [
    {
     "data": {
      "text/plain": [
       "Text(0.5,1,'Scatter Plot of number Climbs Logged vs User Peak Grade')"
      ]
     },
     "execution_count": 46,
     "metadata": {},
     "output_type": "execute_result"
    },
    {
     "data": {
      "image/png": "[encoded data removed]",
      "text/plain": [
       "<matplotlib.figure.Figure at 0x24daa8697f0>"
      ]
     },
     "metadata": {
      "needs_background": "light"
     },
     "output_type": "display_data"
    }
   ],
   "source": [
    "plt.figure(figsize=(15,5))\n",
    "plt.scatter(final_mldf0['climbLogged'], final_mldf0['grade'])\n",
    "plt.title('Scatter Plot of number Climbs Logged vs User Peak Grade')"
   ]
  },
  {
   "cell_type": "markdown",
   "metadata": {},
   "source": [
    "### Data train and test Splitting"
   ]
  },
  {
   "cell_type": "code",
   "execution_count": 47,
   "metadata": {},
   "outputs": [],
   "source": [
    "x_train, x_test, y_train, y_test = train_test_split(\n",
    "    final_mldf0[['climbExp','climbLogged','BMI']],\n",
    "    final_mldf0['class'],\n",
    "    test_size=.2,\n",
    ")"
   ]
  },
  {
   "cell_type": "code",
   "execution_count": 48,
   "metadata": {},
   "outputs": [
    {
     "name": "stdout",
     "output_type": "stream",
     "text": [
      "0.627870150435\n"
     ]
    }
   ],
   "source": [
    "rf = RandomForestClassifier(n_estimators=1000)\n",
    "rf.fit(x_train,y_train)\n",
    "print(rf.score(x_test,y_test))"
   ]
  },
  {
   "cell_type": "code",
   "execution_count": 49,
   "metadata": {},
   "outputs": [
    {
     "name": "stdout",
     "output_type": "stream",
     "text": [
      "0.668250197941\n"
     ]
    }
   ],
   "source": [
    "# Best on 3 var\n",
    "\n",
    "logreg = LogisticRegression()\n",
    "logreg.fit(x_train,y_train)\n",
    "print(logreg.score(x_test,y_test))"
   ]
  },
  {
   "cell_type": "code",
   "execution_count": 50,
   "metadata": {},
   "outputs": [
    {
     "name": "stdout",
     "output_type": "stream",
     "text": [
      "0.538400633413\n"
     ]
    }
   ],
   "source": [
    "svmodel = SVC(gamma='auto',C=1000)\n",
    "svmodel.fit(x_train,y_train)\n",
    "print(svmodel.score(x_test,y_test))"
   ]
  },
  {
   "cell_type": "code",
   "execution_count": 51,
   "metadata": {},
   "outputs": [
    {
     "name": "stdout",
     "output_type": "stream",
     "text": [
      "0.633412509897\n"
     ]
    }
   ],
   "source": [
    "knn = KNeighborsClassifier(n_neighbors=1000)\n",
    "knn.fit(x_train, y_train)\n",
    "print(knn.score(x_test,y_test))\n"
   ]
  },
  {
   "cell_type": "code",
   "execution_count": 52,
   "metadata": {},
   "outputs": [
    {
     "name": "stdout",
     "output_type": "stream",
     "text": [
      "0.621536025337\n"
     ]
    }
   ],
   "source": [
    "nb=GaussianNB()\n",
    "nb.fit(x_train,y_train)\n",
    "print(nb.score(x_test,y_test))"
   ]
  },
  {
   "cell_type": "code",
   "execution_count": 53,
   "metadata": {},
   "outputs": [
    {
     "name": "stdout",
     "output_type": "stream",
     "text": [
      "Climb experience(year): 7\n",
      "Routes climbed: 22\n",
      "BMI: 18.5\n"
     ]
    },
    {
     "data": {
      "text/plain": [
       "'Elite'"
      ]
     },
     "execution_count": 53,
     "metadata": {},
     "output_type": "execute_result"
    }
   ],
   "source": [
    "def predict(x,y,z):\n",
    "    return int(logreg.predict([[x,y,z]]))\n",
    "x = int(input('Climb experience(year): '))\n",
    "y = int(input('Routes climbed: '))\n",
    "z = float(input('BMI: '))\n",
    "target_names[predict(x,y,z)]"
   ]
  },
  {
   "cell_type": "code",
   "execution_count": null,
   "metadata": {},
   "outputs": [],
   "source": []
  },
  {
   "cell_type": "code",
   "execution_count": null,
   "metadata": {},
   "outputs": [],
   "source": []
  },
  {
   "cell_type": "code",
   "execution_count": null,
   "metadata": {},
   "outputs": [],
   "source": []
  }
 ],
 "metadata": {
  "kernelspec": {
   "display_name": "Python 3",
   "language": "python",
   "name": "python3"
  },
  "language_info": {
   "codemirror_mode": {
    "name": "ipython",
    "version": 3
   },
   "file_extension": ".py",
   "mimetype": "text/x-python",
   "name": "python",
   "nbconvert_exporter": "python",
   "pygments_lexer": "ipython3",
   "version": "3.6.8"
  }
 },
 "nbformat": 4,
 "nbformat_minor": 2
}
